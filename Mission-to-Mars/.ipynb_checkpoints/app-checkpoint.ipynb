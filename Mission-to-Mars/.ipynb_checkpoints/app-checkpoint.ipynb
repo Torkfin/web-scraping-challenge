{
 "cells": [
  {
   "cell_type": "code",
   "execution_count": 14,
   "id": "f59ca3cd",
   "metadata": {},
   "outputs": [],
   "source": [
    "# Import Flask, PyMongo\n",
    "from flask import Flask, render_template, redirect\n",
    "import pymongo\n",
    "\n",
    "\n",
    "#Import my Scrape PY file\n",
    "import scrape_mars_py"
   ]
  },
  {
   "cell_type": "code",
   "execution_count": 16,
   "id": "ea939e69",
   "metadata": {},
   "outputs": [],
   "source": [
    "# Create a Flask Server\n",
    "app = Flask(__name__)\n",
    "\n",
    "#Create connection variable\n",
    "conn =\"mongodb://localhost:27017/mission_to_mars\"\n",
    " "
   ]
  },
  {
   "cell_type": "code",
   "execution_count": 17,
   "id": "b6f946cb",
   "metadata": {},
   "outputs": [],
   "source": [
    "# Pass connection to the pymongo instance.\n",
    "client = pymongo.MongoClient(conn)\n"
   ]
  },
  {
   "cell_type": "code",
   "execution_count": 18,
   "id": "e8cff48d",
   "metadata": {},
   "outputs": [],
   "source": [
    "# Establish the base route \n",
    "@app.route(\"/\")\n",
    "def echo():\n",
    "    mars_scrape = mongo.db.collection.find_one()\n",
    "    return render_template(\"index.html\", mars_scrape=mars_scrape)\n"
   ]
  },
  {
   "cell_type": "code",
   "execution_count": 19,
   "id": "63f2beeb",
   "metadata": {},
   "outputs": [],
   "source": [
    "@app.route(\"/scrape\")\n",
    "def scrapping_mars():\n",
    "    mars_scrape = scrape_mars.scrape_py()\n",
    "    mongo.db.collection.update({}, mars_scrape, upsert=True)\n",
    "\n",
    "    return redirect(\"/\")\n"
   ]
  },
  {
   "cell_type": "code",
   "execution_count": 13,
   "id": "e56d7cea",
   "metadata": {},
   "outputs": [
    {
     "name": "stdout",
     "output_type": "stream",
     "text": [
      " * Serving Flask app \"__main__\" (lazy loading)\n",
      " * Environment: production\n",
      "\u001b[31m   WARNING: This is a development server. Do not use it in a production deployment.\u001b[0m\n",
      "\u001b[2m   Use a production WSGI server instead.\u001b[0m\n",
      " * Debug mode: on\n"
     ]
    },
    {
     "name": "stderr",
     "output_type": "stream",
     "text": [
      " * Restarting with watchdog (windowsapi)\n"
     ]
    },
    {
     "ename": "SystemExit",
     "evalue": "1",
     "output_type": "error",
     "traceback": [
      "An exception has occurred, use %tb to see the full traceback.\n",
      "\u001b[1;31mSystemExit\u001b[0m\u001b[1;31m:\u001b[0m 1\n"
     ]
    },
    {
     "name": "stderr",
     "output_type": "stream",
     "text": [
      "C:\\Users\\16784\\anaconda3\\lib\\site-packages\\IPython\\core\\interactiveshell.py:3452: UserWarning: To exit: use 'exit', 'quit', or Ctrl-D.\n",
      "  warn(\"To exit: use 'exit', 'quit', or Ctrl-D.\", stacklevel=1)\n"
     ]
    }
   ],
   "source": [
    "if __name__ == \"__main__\":\n",
    "    app.run(debug=True)"
   ]
  },
  {
   "cell_type": "code",
   "execution_count": null,
   "id": "3331a3d5",
   "metadata": {},
   "outputs": [],
   "source": []
  }
 ],
 "metadata": {
  "kernelspec": {
   "display_name": "Python 3 (ipykernel)",
   "language": "python",
   "name": "python3"
  },
  "language_info": {
   "codemirror_mode": {
    "name": "ipython",
    "version": 3
   },
   "file_extension": ".py",
   "mimetype": "text/x-python",
   "name": "python",
   "nbconvert_exporter": "python",
   "pygments_lexer": "ipython3",
   "version": "3.9.7"
  }
 },
 "nbformat": 4,
 "nbformat_minor": 5
}
