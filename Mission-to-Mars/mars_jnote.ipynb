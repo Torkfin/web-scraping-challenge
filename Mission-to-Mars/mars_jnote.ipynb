{
 "cells": [
  {
   "cell_type": "code",
   "execution_count": 14,
   "id": "17f3df56",
   "metadata": {},
   "outputs": [
    {
     "name": "stdout",
     "output_type": "stream",
     "text": [
      "Collecting Flask-Pymongo\n",
      "  Downloading Flask_PyMongo-2.3.0-py2.py3-none-any.whl (12 kB)\n",
      "Requirement already satisfied: Flask>=0.11 in c:\\users\\16784\\anaconda3\\lib\\site-packages (from Flask-Pymongo) (1.1.2)\n",
      "Requirement already satisfied: PyMongo>=3.3 in c:\\users\\16784\\anaconda3\\lib\\site-packages (from Flask-Pymongo) (4.0.2)\n",
      "Requirement already satisfied: Werkzeug>=0.15 in c:\\users\\16784\\anaconda3\\lib\\site-packages (from Flask>=0.11->Flask-Pymongo) (2.0.2)\n",
      "Requirement already satisfied: Jinja2>=2.10.1 in c:\\users\\16784\\anaconda3\\lib\\site-packages (from Flask>=0.11->Flask-Pymongo) (2.11.3)\n",
      "Requirement already satisfied: itsdangerous>=0.24 in c:\\users\\16784\\anaconda3\\lib\\site-packages (from Flask>=0.11->Flask-Pymongo) (2.0.1)\n",
      "Requirement already satisfied: click>=5.1 in c:\\users\\16784\\anaconda3\\lib\\site-packages (from Flask>=0.11->Flask-Pymongo) (8.0.3)\n",
      "Requirement already satisfied: colorama in c:\\users\\16784\\anaconda3\\lib\\site-packages (from click>=5.1->Flask>=0.11->Flask-Pymongo) (0.4.4)\n",
      "Requirement already satisfied: MarkupSafe>=0.23 in c:\\users\\16784\\anaconda3\\lib\\site-packages (from Jinja2>=2.10.1->Flask>=0.11->Flask-Pymongo) (1.1.1)\n",
      "Installing collected packages: Flask-Pymongo\n",
      "Successfully installed Flask-Pymongo-2.3.0\n"
     ]
    }
   ],
   "source": [
    "import sys\n",
    "!{sys.executable} -m pip install Flask-Pymongo\n",
    "\n",
    "\n",
    "# Import Flask, PyMongo\n",
    "from flask import Flask, render_template, redirect\n",
    "from flask_pymongo import pymongo\n",
    "\n",
    "\n",
    "#Import my Scrape PY file\n",
    "import scrape_mars_py"
   ]
  },
  {
   "cell_type": "code",
   "execution_count": 51,
   "id": "567a3003",
   "metadata": {},
   "outputs": [
    {
     "data": {
      "text/plain": [
       "'mongodb://localhost:27017/mars_db'"
      ]
     },
     "execution_count": 51,
     "metadata": {},
     "output_type": "execute_result"
    }
   ],
   "source": [
    "# Create a Flask Server\n",
    "app = Flask(__name__)\n",
    "\n",
    "#Create connection variable\n",
    "conn =\"mongodb://localhost:27017/mars_db\"\n",
    "conn"
   ]
  },
  {
   "cell_type": "code",
   "execution_count": 52,
   "id": "594a1eb1",
   "metadata": {},
   "outputs": [
    {
     "data": {
      "text/plain": [
       "MongoClient(host=['localhost:27017'], document_class=dict, tz_aware=False, connect=True)"
      ]
     },
     "execution_count": 52,
     "metadata": {},
     "output_type": "execute_result"
    }
   ],
   "source": [
    "# Pass connection to the pymongo instance.\n",
    "client = pymongo.MongoClient(conn)\n",
    "client"
   ]
  },
  {
   "cell_type": "code",
   "execution_count": 53,
   "id": "7277fb0d",
   "metadata": {},
   "outputs": [],
   "source": [
    "# Establish the base route \n",
    "@app.route(\"/\")\n",
    "def echo():\n",
    "    mars_data = mongo.db.collection.find_one()\n",
    "    return render_template(\"index.html\", mars_date=mars_data)\n",
    " "
   ]
  },
  {
   "cell_type": "code",
   "execution_count": 54,
   "id": "ea33eec6",
   "metadata": {},
   "outputs": [],
   "source": [
    "@app.route(\"/scrape\")\n",
    "def scrapping_mars():\n",
    "    mars_data = scrape_mars_py.scrape()\n",
    "    mongo.db.collection.update({}, mars_data, upsert=True)\n",
    "\n",
    "    return redirect(\"/\")\n"
   ]
  },
  {
   "cell_type": "code",
   "execution_count": 55,
   "id": "5d89c29c",
   "metadata": {},
   "outputs": [
    {
     "name": "stdout",
     "output_type": "stream",
     "text": [
      " * Serving Flask app \"__main__\" (lazy loading)\n",
      " * Environment: production\n",
      "\u001b[31m   WARNING: This is a development server. Do not use it in a production deployment.\u001b[0m\n",
      "\u001b[2m   Use a production WSGI server instead.\u001b[0m\n",
      " * Debug mode: on\n"
     ]
    },
    {
     "name": "stderr",
     "output_type": "stream",
     "text": [
      " * Restarting with watchdog (windowsapi)\n"
     ]
    },
    {
     "ename": "SystemExit",
     "evalue": "1",
     "output_type": "error",
     "traceback": [
      "An exception has occurred, use %tb to see the full traceback.\n",
      "\u001b[1;31mSystemExit\u001b[0m\u001b[1;31m:\u001b[0m 1\n"
     ]
    },
    {
     "name": "stderr",
     "output_type": "stream",
     "text": [
      "C:\\Users\\16784\\anaconda3\\lib\\site-packages\\IPython\\core\\interactiveshell.py:3452: UserWarning: To exit: use 'exit', 'quit', or Ctrl-D.\n",
      "  warn(\"To exit: use 'exit', 'quit', or Ctrl-D.\", stacklevel=1)\n"
     ]
    }
   ],
   "source": [
    "if __name__ == \"__main__\":\n",
    "    app.run(debug=True)"
   ]
  },
  {
   "cell_type": "code",
   "execution_count": null,
   "id": "44b04beb",
   "metadata": {},
   "outputs": [],
   "source": []
  }
 ],
 "metadata": {
  "kernelspec": {
   "display_name": "Python 3 (ipykernel)",
   "language": "python",
   "name": "python3"
  },
  "language_info": {
   "codemirror_mode": {
    "name": "ipython",
    "version": 3
   },
   "file_extension": ".py",
   "mimetype": "text/x-python",
   "name": "python",
   "nbconvert_exporter": "python",
   "pygments_lexer": "ipython3",
   "version": "3.9.7"
  }
 },
 "nbformat": 4,
 "nbformat_minor": 5
}
